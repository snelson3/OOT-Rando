{
 "cells": [
  {
   "cell_type": "code",
   "execution_count": null,
   "metadata": {},
   "outputs": [],
   "source": [
    "from oot.oot import Oot\n",
    "from oot.Accessor import Accessor\n",
    "import os, random, requests, time\n",
    "from oot.Utils import *\n",
    "\n",
    "##### DEFINE SETTINGS\n",
    "FORCE_ASSUMPTIONS = True\n",
    "SEED = 'Deadpool2'\n",
    "ROM = \"ZOOTDEC.z64\"\n",
    "SELECTED_ENEMY = None #{'fn': 'En_Dodojr', 'object_fn': 'object_dodojr', 'var': ('0000', '')}\n",
    "game = Oot(fn=ROM)\n",
    "accessor = Accessor(game, force_assumptions=FORCE_ASSUMPTIONS, selected_enemy=SELECTED_ENEMY)\n",
    "accessor.spawnAt(0x3)\n",
    "#####"
   ]
  },
  {
   "cell_type": "code",
   "execution_count": null,
   "metadata": {},
   "outputs": [],
   "source": [
    "# Cell for testing individual actor replacements\n",
    "# Kokiri main spot04_room_0\n",
    "# To replace rock guy old_actor=En_Ko, old_object_fn=object_km1\n",
    "# Mido's House kokiri_home4_room_0\n",
    "accessor.readData()\n",
    "accessor.replaceActorInRoom('En_Test', 'En_Rr', 'Bmori1_room_6', var='FFFF')\n",
    "#replaceActorInRoom('En_Box', 'En_Box', 'kokiri_home4_room_0', var='0700')\n",
    "#replaceActorInRoom('En_Ko', 'En_Rr', 'spot04_room_0', var='0003', index=0, old_object_fn='object_os_anime')\n",
    "#replaceActorInRoom('En_Karebaba', 'En_Skj', 'spot04_room_1', var='FFFF', old_object_fn='object_dekubaba')\n",
    "# accessor.spawnAt(0x5)\n",
    "accessor.writeData()"
   ]
  },
  {
   "cell_type": "code",
   "execution_count": null,
   "metadata": {},
   "outputs": [],
   "source": [
    "# Creates a vanilla rom\n",
    "accessor.readData()\n",
    "rooms_list = accessor.reader.getRoomNames()\n",
    "rooms = accessor.generateRooms(rooms_list)\n",
    "accessor.spawnAt(0x3)\n",
    "accessor.writeData()"
   ]
  },
  {
   "cell_type": "code",
   "execution_count": null,
   "metadata": {},
   "outputs": [],
   "source": [
    "accessor.reader.ref.enemies.reset_index().set_index(\"Enemy\").loc[\"Flare Dancer\"].to_dict()"
   ]
  },
  {
   "cell_type": "code",
   "execution_count": null,
   "metadata": {},
   "outputs": [],
   "source": [
    "accessor.reader.ref[\"enemies\"]"
   ]
  },
  {
   "cell_type": "code",
   "execution_count": null,
   "metadata": {},
   "outputs": [],
   "source": [
    "# Running this cell should start to finish randomize the actors in the rom\n",
    "actor_prefix = None # Only randomize among actors starting with this prefix\n",
    "start_time = time.time()\n",
    "seed = SEED if SEED else str(start_time)\n",
    "setSeed(seed)\n",
    "print(\"Seed: {}\".format(seed) )\n",
    "\n",
    "readData()\n",
    "print(\"Data read, {} sec\".format(time.time()-start_time))\n",
    "\n",
    "rooms_list = getRoomNames()\n",
    "rooms = generateRooms(rooms_list)\n",
    "print(\"Room Info Generated, {} sec\".format(time.time()-start_time))\n",
    "\n",
    "# Generate a dict with actor/{object: associated_object, variable: var} pairs\n",
    "actors_associated = {}\n",
    "for key, room in rooms.items():\n",
    "    for num, setup in room.setups.items():\n",
    "        for actor in setup['actors']:\n",
    "            if actor.object_name is not 'NA':\n",
    "                actors_associated[actor.filename] = {\n",
    "                    \"object\": actor.object_name,\n",
    "                    \"variable\": actor.var\n",
    "                }\n",
    "available_actors = {k:a for k,a in actors_associated.items() if k.startswith(actor_prefix)}\n",
    "print(\"Actors Associated, {} sec\".format(time.time()-start_time))\n",
    "\n",
    "spoilers = {}\n",
    "for r, room in rooms.items():\n",
    "    for n, setup in room.setups.items():\n",
    "        key = '{}-{}'.format(r,n)\n",
    "        room_spoiler = []\n",
    "        spoilers[key] = room_spoiler\n",
    "        for a, actor in enumerate(setup['actors']):\n",
    "            if actor.filename in available_actors and actor.filename not in [rm[\"new\"][\"filename\"] for rm in room_spoiler]:\n",
    "                new_actor_name = random.choice(list(available_actors.keys()))\n",
    "                old_actor_info = {\"filename\": actor.filename, \"object\": actor.object_name, \"description\": actor.description, \"variable\": actor.var}\n",
    "                room.replaceActor(actor.filename, new_actor_name, new_var=available_actors[new_actor_name]['variable'])\n",
    "                new_actor_info = {\"filename\": setup['actors'][a].filename, \"object\": setup['actors'][a].object_name, \"description\": setup['actors'][a].description, \"variable\": actor.var}\n",
    "                room_spoiler.append({\"old\": old_actor_info, \"new\": new_actor_info})\n",
    "        spoilers[r] = room_spoiler\n",
    "print(\"Rooms Randomized, {} sec\".format(time.time()-start_time))\n",
    "\n",
    "# Print out spoilers\n",
    "writeSpoilers(spoilers, \"spoiler.log\")\n",
    "print(\"Replacement Log Written\".format(time.time()-start_time))\n",
    "\n",
    "writeData()\n",
    "print(\"New ROM Written {}\".format(time.time()-start_time))"
   ]
  },
  {
   "cell_type": "code",
   "execution_count": null,
   "metadata": {},
   "outputs": [],
   "source": [
    "import os\n",
    "f=os.path.join(\"roms\",\"oozdec.z64\")\n",
    "os.path.isfile(f)"
   ]
  }
 ],
 "metadata": {
  "kernelspec": {
   "display_name": "Python 3",
   "language": "python",
   "name": "python3"
  },
  "language_info": {
   "codemirror_mode": {
    "name": "ipython",
    "version": 3
   },
   "file_extension": ".py",
   "mimetype": "text/x-python",
   "name": "python",
   "nbconvert_exporter": "python",
   "pygments_lexer": "ipython3",
   "version": "3.7.0"
  }
 },
 "nbformat": 4,
 "nbformat_minor": 2
}
